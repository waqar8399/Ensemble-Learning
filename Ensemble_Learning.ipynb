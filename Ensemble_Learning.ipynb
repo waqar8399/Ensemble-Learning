{
  "nbformat": 4,
  "nbformat_minor": 0,
  "metadata": {
    "colab": {
      "provenance": []
    },
    "kernelspec": {
      "name": "python3",
      "display_name": "Python 3"
    },
    "language_info": {
      "name": "python"
    }
  },
  "cells": [
    {
      "cell_type": "markdown",
      "source": [
        "# Ensemble Learning"
      ],
      "metadata": {
        "id": "fB-ZgS_s8zXp"
      }
    },
    {
      "cell_type": "markdown",
      "source": [
        "**1. Can we use Bagging for regression problems?**\n",
        "- Yes, bagging can be used for regression problems. Bagging, or bootstrap aggregation, is an ensemble method designed to reduce overfitting and improve prediction accuracy by training multiple base models on different bootstrapped samples of the data. For regression tasks, each base model (often a regression tree, but any regressor can be used) is trained independently on these samples, and their predictions are averaged to form the final prediction."
      ],
      "metadata": {
        "id": "BdT5tSoc82np"
      }
    },
    {
      "cell_type": "markdown",
      "source": [
        "**2. What is the difference between multiple model training and single model training?**\n",
        "- The difference between single model training and multiple model training lies at the heart of how predictive models are constructed and how they learn from data. In single model training, all efforts are focused on building one model that attempts to encapsulate all relevant data patterns. This approach is straightforward, making it an attractive option for those seeking clarity and ease of interpretation. Because only a **single model** is used, the **computational demands are typically low**, and the process from training to deployment is generally faster and simpler to manage. However, relying solely on one model means the predictions are inherently tied to the limitations of that individual learner—if the model is too simple, it may **fail to capture complex relationships** (underfitting), while if it is too complex, it risks fitting idiosyncrasies of the training data that do not generalize (overfitting).\n",
        "\n",
        "  In contrast, multiple model training, also referred to as ensemble learning, draws upon the collective wisdom of several models. Each model in the ensemble might be trained using different subsets of the data, with varied initialization parameters, or even entirely distinct algorithms. The primary intuition is that where one model may mistake noise for a significant signal, another might see through this, and by pooling their judgments—through techniques like averaging in regression or majority voting in classification—ensemble methods often **outperform their single-model** counterparts. While ensemble techniques demand **more computational resources** and entail greater complexity in both implementation and interpretation, they grant robustness and resilience to prediction tasks, as the strengths of individual models compensate for each other's weaknesses, leading to improved accuracy and generalization.\n",
        "\n",
        "  The choice between single and multiple model training reflects a trade-off. Single models bring efficiency and transparency, offering solutions that are more accessible and easier to explain. Ensembles, meanwhile, grant superior performance and stability, especially crucial in high-stakes predictive tasks or when seeking to wring the most from complex, noisy data. Each approach has its suitable context, and understanding these underlying philosophies allows practitioners to tailor their methods to the demands and constraints of the problem at hand."
      ],
      "metadata": {
        "id": "0HosU5Pv9UQO"
      }
    },
    {
      "cell_type": "markdown",
      "source": [
        "**3. Explain the concept of feature randomness in Random Forest.**\n",
        "- Feature randomness in Random Forest means that, when building each decision tree in the forest, the algorithm doesn't look at all the available features (or columns) every time it has to decide how to split the data. Instead, it picks a smaller, random subset of features each time it needs to make a split. This means each tree learns differently because it might focus on different features or combinations of features, even if they're all using the same data. The main reason for this is to make sure the trees are different from each other, so they don’t all make the same mistakes. When the final prediction is made, the Random Forest combines the results from all these different trees, which helps make the answer more accurate and less likely to be wrong or overfit to the training data. Simply put, feature randomness helps Random Forest models be smarter and more reliable by making sure the trees inside the forest are not all thinking alike."
      ],
      "metadata": {
        "id": "u42HM9L4-hkK"
      }
    },
    {
      "cell_type": "markdown",
      "source": [
        "**4. What is OOB (Out-of-Bag) Score?**\n",
        "- The Out-of-Bag (OOB) Score is a built-in performance measure used in ensemble models like Random Forests that rely on bagging. When a Random Forest is trained, each individual tree is built using a random subset of the original dataset, created via sampling with replacement (called a bootstrap sample). Consequently, about one-third of the training data is not used in building each specific tree—these unused samples are known as the out-of-bag samples for that tree."
      ],
      "metadata": {
        "id": "Edithvj0_Nla"
      }
    },
    {
      "cell_type": "markdown",
      "source": [
        "**5. How can you measure the importance of features in a Random Forest model?**\n",
        "- You can measure the importance of features in a Random Forest model using several well-established methods that provide insight into which variables have the most influence on your model's predictions. The most common approach, and the one built into popular libraries like scikit-learn, is known as impurity-based feature importance or Mean Decrease in Impurity (MDI). This method works by analyzing how each feature contributes to reducing impurity—such as Gini impurity for classification or variance for regression—in every split across all trees in the forest. Each time a feature is used to split a node, the impurity reduction is recorded and then summed, with the results averaged and normalized across all trees. Features that consistently create strong splits—in other words, those that most help the model distinguish or explain the target variable—receive higher scores. This value can be accessed directly from the fitted model using the feature_importances_ attribute in scikit-learn.\n",
        "\n",
        "  Another technique is permutation feature importance, which is model-agnostic and works by measuring the increase in the model’s prediction error after randomly shuffling the values of a feature. By breaking the relationship between the feature and the true outcome, you can observe how much the model's accuracy suffers—features whose permutation leads to a strong decline in performance are considered more important. This approach is particularly useful for identifying features whose predictive value may not be fully captured by the impurity-based method and for countering biases toward variables with more levels or possible splits."
      ],
      "metadata": {
        "id": "onu0AdBP_rj-"
      }
    },
    {
      "cell_type": "markdown",
      "source": [
        "**6. Explain the working principle of a Bagging Classifier.**\n",
        "- A Bagging Classifier (short for Bootstrap Aggregating Classifier) is an ensemble learning method designed to improve the accuracy and robustness of machine learning models, particularly those prone to high variance such as decision trees. The working principle starts by generating multiple different subsets of the original training data through a process called bootstrap sampling. In this process, each subset is created by randomly selecting samples from the dataset with replacement, which means that some data points may appear more than once in a subset while others may not appear at all.\n",
        "\n",
        "  For each of these bootstrapped subsets, a separate base classifier—often called a \"weak learner\"—is independently trained. These base classifiers work in parallel and are exposed to slightly different data distributions, leading them to learn different patterns or make different errors. Once all base classifiers have been trained, the Bagging Classifier makes predictions on new, unseen data by aggregating the outputs from each base model. In classification tasks, this aggregation is typically done via majority voting, where the class label predicted most often by the base classifiers becomes the final output of the ensemble. This approach leverages the collective “wisdom” of multiple models, reducing the likelihood that the ensemble will overfit to peculiarities in the training data.\n",
        "\n",
        "  An additional strength of the Bagging Classifier is its ability to use so-called out-of-bag (OOB) samples—the data points not included in a particular tree’s bootstrap sample—to measure the model’s performance without needing a separate validation set. Overall, Bagging vastly improves model performance by reducing variance, boosting prediction stability, and decreasing the risk of overfitting, thereby producing more reliable and accurate results than any single model alone."
      ],
      "metadata": {
        "id": "hI6WtAW6AOCX"
      }
    },
    {
      "cell_type": "markdown",
      "source": [
        "**7. How do you evaluate a Bagging Classifier’s performance?**\n",
        "- You can evaluate the performance of a Bagging Classifier using several standard approaches, each reflecting different aspects of model accuracy and generalization.\n",
        "\n",
        "  The most direct method is to assess the classifier's accuracy, precision, recall, F1-score, or other classification metrics on a separate test set. After you train the Bagging Classifier on your training data, you make predictions on your test data and calculate these metrics. This provides a clear, quantitative measure of how well your ensemble model is performing on data it has not seen before.\n",
        "\n",
        "  Another valuable and efficient metric unique to bagging (and Random Forests) is the Out-of-Bag (OOB) score. Because each base learner in a Bagging Classifier is trained on a bootstrap sample—a random subset of the training data with replacement—some samples are not used for that particular model. The OOB score is calculated by aggregating the predictions for each sample across all the models where it was not included in the training subset. This provides an unbiased estimate of the model’s performance without needing a separate validation set, saving both data and computational resources, especially on smaller datasets."
      ],
      "metadata": {
        "id": "v1vRr9JfAkXR"
      }
    },
    {
      "cell_type": "markdown",
      "source": [
        "**8. How does a Bagging Regressor work?**\n",
        "- A Bagging Regressor works by creating an ensemble of several regression models—often called “base learners”—to improve prediction accuracy and reduce overfitting, especially for models that are sensitive to variations in the data, like decision trees. Its key steps are as follows:\n",
        "\n",
        "  **Bootstrap Sampling:** The Bagging Regressor generates multiple random subsets of the training data by sampling with replacement, a process known as bootstrapping. Each subset, called a bootstrap sample, might include some data points multiple times and miss others completely. This means each base regressor sees a slightly different view of the data, encouraging model diversity.\n",
        "\n",
        "  **Base Model Training:** For each bootstrap sample, a separate regression model (such as a Decision Tree Regressor) is trained independently. This parallel training allows each model to capture different aspects of the dataset and the underlying patterns, making the ensemble less likely to overfit compared to a single model.\n",
        "\n",
        "  **Prediction Aggregation:** When making predictions, the Bagging Regressor gathers the outputs from all the trained base models and typically averages them. In regression tasks, averaging the predictions helps to “smooth out” any errors made by individual models, leading to more stable and accurate results.\n"
      ],
      "metadata": {
        "id": "jF2xKjpRA6z6"
      }
    },
    {
      "cell_type": "markdown",
      "source": [
        "**9. What is the main advantage of ensemble techniques?**\n",
        "- The main advantage of ensemble techniques is their ability to significantly improve prediction accuracy and robustness by combining the strengths of multiple models rather than relying on a single one. When different models are trained on the same or slightly varied data, they are likely to capture different aspects of the underlying patterns and make diverse errors. By aggregating their predictions—through methods like voting (for classification) or averaging (for regression)—ensemble methods can produce results that are more accurate, stable, and generalize better to new data than any individual model alone.\n",
        "\n",
        "  Ensemble techniques also reduce overfitting by mitigating the risk that the model memorizes noise or peculiarities in the training data, a common issue with single complex models. They are particularly effective at handling noisy data and outliers, as the influence of any one misjudgment is diluted by the consensus of the group. Additionally, ensembles help balance bias and variance, strike a better trade-off between overfitting and underfitting, and deliver more reliable predictions in real-world scenarios—even when using relatively weak or simple base models. This is why ensemble methods such as bagging, boosting, and stacking are widely adopted in high-stakes applications, powering systems like search engines, recommendation systems, and fraud detection platforms."
      ],
      "metadata": {
        "id": "ug8pW788BJkj"
      }
    },
    {
      "cell_type": "markdown",
      "source": [
        "**10. What is the main challenge of ensemble methods?**\n",
        "- The main challenge of ensemble methods is their **increased complexity**, both in terms of computational resources and interpretability. Because ensembles combine multiple models—sometimes dozens, hundreds, or even thousands—they inherently require more computational power for training and making predictions compared to using a single model. This can lead to longer training times, higher memory consumption, and greater demands when deploying the model into production.\n",
        "\n",
        "  Beyond computation, another significant challenge is **interpretability**. Ensemble models, by their very nature, function as \"black boxes,\" making it difficult to understand the reasoning behind specific predictions. Unlike single, simple models where insights can be directly gleaned from model parameters or decision paths, ensembles aggregate the outputs of many different models, obscuring the influence of any single feature or training example. This lack of transparency can be a problem in fields where understanding the decision process is crucial, such as finance, healthcare, or situations requiring regulatory compliance.\n",
        "\n",
        "  Additional challenges include the **risk of overfitting** if the base learners are not properly regularized, and the need for careful management of model diversity to ensure that ensemble members do not all make similar errors. Tuning ensemble methods also generally involves more hyperparameters, further complicating the modeling pipeline and requiring more sophisticated validation techniques. Thus, while ensemble methods excel in boosting performance and robustness, they do so at the cost of added computational, operational, and interpretability challenges."
      ],
      "metadata": {
        "id": "9r2jg50uBVQn"
      }
    },
    {
      "cell_type": "markdown",
      "source": [
        "**11. Explain the key idea behind ensemble techniques.**\n",
        "- The key idea behind ensemble techniques is to combine the predictions of multiple models to achieve better accuracy and robustness than any single model could provide on its own. Instead of relying on one model, which might capture some patterns but also be prone to specific errors or overfitting, ensemble methods create a group of models—often trained in slightly different ways or on different subsets of the data. By aggregating their outputs, either through voting (in classification) or averaging (in regression), ensemble techniques harness the collective “wisdom” of the group.\n",
        "\n",
        "  This strategy reduces the risk that all models will make the same mistakes or be equally misled by noise in the data. As a result, the overall prediction becomes more reliable, less sensitive to fluctuations in the data, and often achieves higher performance on unseen samples. Ensembling is a powerful way to address the limitations of individual models and build systems that generalize better—making it a fundamental tool in modern machine learning."
      ],
      "metadata": {
        "id": "18HnvrhZBkDs"
      }
    },
    {
      "cell_type": "markdown",
      "source": [
        "**12. What is a Random Forest Classifier?**\n",
        "- A Random Forest Classifier is a widely used machine learning algorithm designed for classification tasks. It works by building an ensemble (or \"forest\") of multiple decision trees, each trained on different random subsets of the data and considering different random subsets of features at each split. This introduction of randomness ensures that each tree in the forest is unique, reducing the likelihood that they all make the same mistakes, and significantly improves the model's ability to generalize to unseen data.\n",
        "\n",
        "  During training, each decision tree in the forest learns to classify data points based on patterns it finds in its own randomized training subset. When the Random Forest Classifier is used to make a prediction, each tree independently predicts a class, and the final classification is determined by majority voting: the class that receives the most votes across all trees is chosen as the output.\n",
        "\n",
        "  The main advantages of a Random Forest Classifier include its high accuracy, robustness to overfitting, and its ability to handle large and complex datasets with many features. It also naturally provides insights into feature importance, helping identify which variables are most influential in predictions. Because it is an ensemble method, Random Forest often performs better than individual decision trees, which can easily overfit the training data.\n",
        "\n",
        "  > A Random Forest Classifier combines the strengths of multiple decision trees, leveraging their diverse perspectives to make more accurate and reliable predictions for classification problems."
      ],
      "metadata": {
        "id": "Hum9kjcIBxf1"
      }
    },
    {
      "cell_type": "markdown",
      "source": [
        "**13. What are the main types of ensemble techniques?**\n",
        "- The main types of ensemble techniques in machine learning are bagging, boosting, and stacking.\n",
        "\n",
        "  **Bagging** (Bootstrap Aggregating) constructs multiple models independently by training each one on a different random subset of the training data created using bootstrapping (sampling with replacement). Their individual predictions are then combined—usually by majority voting for classification or averaging for regression—to produce the final output. The primary goal of bagging is to reduce variance and prevent overfitting; Random Forest is a classic example of this approach.\n",
        "\n",
        "  **Boosting** creates models sequentially, where each new model is trained to correct the errors made by the previous ones. Each model pays more attention to the misclassified or poorly predicted examples of the earlier models, and their predictions are combined , typically through weighted voting or weighted averaging. Boosting aims to reduce both bias and variance and can lead to highly accurate models. Popular algorithms include AdaBoost, Gradient Boosting, and XGBoost.\n",
        "\n",
        "  **Stacking** (Stacked Generalization) goes a step further by training multiple different base models (often of various types), then building a meta-model that learns how best to combine the predictions of these base models. The meta-model is trained on the output predictions of the base learners, allowing the ensemble to capture relationships among their outputs for improved performance."
      ],
      "metadata": {
        "id": "7PLcCBypCIir"
      }
    },
    {
      "cell_type": "markdown",
      "source": [
        "**14. What is ensemble learning in machine learning?**\n",
        "- Ensemble learning in machine learning is a technique where multiple models—often referred to as “learners” or “base models”—are trained to solve the same problem, and their predictions are combined to achieve better performance than any single model alone. The core idea is similar to seeking advice from a group of people: while individual opinions may be limited or prone to error, collectively they tend to produce a more accurate and reliable result.\n",
        "\n",
        "  Ensemble models work by aggregating the strengths and compensating for the weaknesses of individual models. This approach enhances predictive accuracy, reduces both bias and variance, and increases the overall robustness and generalization ability of machine learning systems. As a result, ensemble learning is frequently used to combat issues like overfitting, high variance, or the insufficient performance of individual models, especially when dealing with complex or noisy datasets.\n",
        "\n",
        "  There are several common types of ensemble techniques, including bagging (where models are trained independently on different random subsets of the data), boosting (where models are trained sequentially, each focusing on correcting the errors of its predecessor), and stacking (where predictions from multiple different models are combined by a meta-model). These methods have been successfully applied across various machine learning tasks, including classification, regression, and anomaly detection, and are key to building high-performance, reliable predictive systems in real-world applications."
      ],
      "metadata": {
        "id": "BrNFJ6WQCeH5"
      }
    },
    {
      "cell_type": "markdown",
      "source": [
        "**15. When should we avoid using ensemble methods?**\n",
        "- Ensemble methods, while powerful, are not always the best choice for every situation. It's important to avoid using ensemble methods under certain conditions:\n",
        "\n",
        "  **When interpretability is crucial:** Ensemble models (like Random Forests or stacked classifiers) combine the predictions of many models, making them complex and often considered “black boxes.” If your application requires clear explanations for predictions, such as in healthcare or finance where transparency is needed for regulatory or ethical reasons, single, simpler models (like logistic regression or decision trees) are preferable.\n",
        "\n",
        "  **With limited computational resources:** Ensembles typically demand more memory, processing power, and longer training and prediction times because multiple models are involved. When working with very large datasets or in environments with strict resource constraints (like embedded systems or real-time applications), a single, efficient model may be more appropriate.\n",
        "\n",
        "  **For small or simple datasets:** When the dataset is small or the underlying relationship is not complex, ensemble methods can easily overfit. In these cases, ensembles may not offer significant performance improvements over single models and can even increase the risk of capturing noise in the data.\n",
        "\n",
        "  **If the base model already performs optimally:** Sometimes, a well-tuned single model captures the patterns in the data almost as well as possible. Introducing an ensemble might add unnecessary complexity without yielding substantial performance gains.\n",
        "\n",
        "  **During rapid prototyping or experimentation:** The increased training time, complexity, and resource usage of ensembles make them less desirable when quick, iterative development is needed. Simple models enable faster experimentation and can reveal insights about data features more quickly.\n",
        "\n",
        "  **When deployment constraints exist:** Deploying multiple models increases maintenance complexity and can complicate pipelines, especially in low-latency or resource-limited production environments. Simpler solutions are often easier to maintain, update, and troubleshoot.\n",
        "\n",
        "  > *In summary*, ensemble methods are best reserved for tasks where performance is paramount, and the additional complexity is justified by significant gains in accuracy or robustness. When transparency, efficiency, or simplicity is the focus, or when working with limited data, ensembles should generally be avoided."
      ],
      "metadata": {
        "id": "Bvesh3Q8C1Yz"
      }
    },
    {
      "cell_type": "markdown",
      "source": [
        "**16. How does Bagging help in reducing overfitting?**\n",
        "- Bagging helps reduce overfitting by making predictions less sensitive to the specific training data on which each base model is trained. In a single complex model, particularly those that are unstable (like deep decision trees), there’s a high risk that the model will “memorize” noise or peculiarities in the training set—this is overfitting, and it leads to poor generalization on new, unseen data.\n",
        "\n",
        "  **Bagging (Bootstrap Aggregating) confronts this challenge through two related mechanisms:**\n",
        "\n",
        "  **First**, by creating multiple bootstrapped samples—each a slightly different version of the original dataset, sampled with replacement—it ensures that each base model (such as an individual decision tree in the ensemble) is exposed to its own unique subset of the training data. As a result, the models make diverse patterns of mistakes, and their individual overfitting tendencies do not coincide.\n",
        "\n",
        "  **Second**, after all base models are trained, Bagging aggregates their predictions (by averaging for regression or majority voting for classification). This aggregation smooths out the idiosyncratic errors any one model might make, diluting the effects of overfitting that stem from individual trees “memorizing” noise in their samples. By combining the outputs of multiple diverse learners, Bagging produces a final prediction that is more robust, stable, and generalizes better to new data."
      ],
      "metadata": {
        "id": "6kMkKjz_DTFT"
      }
    },
    {
      "cell_type": "markdown",
      "source": [
        "**17. Why is Random Forest better than a single Decision Tree?**\n",
        "- Random Forest is generally better than a single Decision Tree because it combines the strengths of many trees to produce more accurate, robust, and generalizable predictions. While a single decision tree learns patterns from the training data and can make fast, interpretable predictions, it is also very sensitive to the data it was trained on. This means that even small changes in the dataset can lead to very different tree structures—resulting in high variance and an increased risk of overfitting, especially when the tree is deep or the data is noisy.\n",
        "\n",
        "  Random Forest addresses these weaknesses by creating an ensemble of many decision trees, each trained on a slightly different random subset of the data (using bootstrap sampling) and, at every split, considering a random subset of features rather than all available features. This process introduces diversity among the trees—each one is likely to capture different patterns or make different mistakes. When the Random Forest makes a prediction, it aggregates the results from all the trees (using majority voting for classification or averaging for regression), effectively smoothing out the quirks or errors of individual trees.\n",
        "\n",
        "  **The key benefits of Random Forest over a single decision tree are:**\n",
        "\n",
        "  **Higher accuracy and stability:** The collective judgment of many trees averages out individual errors and variances, leading to better overall performance on unseen data.\n",
        "\n",
        "  **Reduced overfitting:** By leveraging randomness in data and features, the Random Forest mitigates the risk that the ensemble will memorize noise or peculiarities of the training set, a common issue with single deep trees.\n",
        "\n",
        "  **Robustness to noise and outliers:** Outlier data points are less likely to distort the ensemble's prediction because their influence is spread out across multiple trees.\n",
        "\n",
        "  **Automatic feature selection:** The random selection of features at each split helps the model discover and use the most informative variables, while also reducing the dominance of strong predictors that might otherwise suppress weaker, but still useful, features."
      ],
      "metadata": {
        "id": "4fWn0MN2DkuO"
      }
    },
    {
      "cell_type": "markdown",
      "source": [
        "**18. What is the role of bootstrap sampling in Bagging**\n",
        "- Bootstrap sampling plays a central role in Bagging (Bootstrap Aggregation) by generating multiple diverse training datasets from the original data through random sampling with replacement. Each of these bootstrap samples is used to train a separate model (often called a base learner), ensuring that each model is exposed to a slightly different distribution of the data—even though each sample is drawn from the same original set.\n",
        "\n",
        "  This diversity among the base models is crucial: because each model sees its own random subset, it tends to make different mistakes and captures different patterns within the data. When Bagging combines the predictions of all these models through aggregation—such as majority voting for classification or averaging for regression—the result is a final prediction that is more accurate, stable, and robust than one produced by a single model trained on the full original data. Bootstrap sampling, therefore, is what underpins Bagging’s power to reduce variance, minimize overfitting, and improve predictive performance, especially for high-variance models like decision trees."
      ],
      "metadata": {
        "id": "XNs80cY2DznC"
      }
    },
    {
      "cell_type": "markdown",
      "source": [
        "**19. What are some real-world applications of ensemble techniques?**\n",
        "- Ensemble techniques are widely applied across various real-world domains due to their ability to enhance accuracy, robustness, and reliability in predictive modeling. Here are some of the most prominent real-world applications:\n",
        "\n",
        "  **Healthcare:** Ensemble methods are frequently used in disease detection, diagnosis, and drug discovery. For example, ensemble classifiers like Random Forests and boosting algorithms improve the accuracy of cancer detection, cardiovascular disease diagnosis, and analysis of medical imaging data by combining insights from different models trained on various demographic, clinical, and imaging features.\n",
        "\n",
        "  **Finance:** Financial institutions leverage ensemble models for critical applications such as fraud detection and credit scoring. By combining the strengths of models like Random Forests, XGBoost, and others, ensembles enhance the detection of suspicious transactions, anomalies in account activities, and risks involved in lending decisions.\n",
        "\n",
        "  **Cybersecurity:** In cybersecurity, ensembles help detect network intrusions, malware, and other cyber threats. By aggregating the predictions of multiple models, ensemble techniques improve the precision of anomaly detection systems and reduce false positives, making defense mechanisms more resilient.\n",
        "\n",
        "  **Weather Forecasting:** Weather agencies use ensemble regression models to predict atmospheric phenomena such as rainfall, temperature, and severe weather events. By training several models on different subsets of weather data and aggregating their predictions, ensemble methods significantly increase forecast accuracy, helping with disaster preparedness and resource management.\n",
        "\n",
        "  **Agriculture:** Ensemble learning is used to predict crop yields by considering diverse environmental and agricultural factors like temperature, rainfall, and soil quality. This leads to more reliable forecasts, helping farmers make informed decisions and optimize resource allocation.\n",
        "\n",
        "  **Insurance:** Insurance companies utilize ensemble methods for accurate risk assessment and premium calculation. By training models on data such as customer demographics, claims history, and market trends, these ensembles enable more precise predictions of claim probabilities.\n",
        "\n",
        "  **E-commerce and Recommendation Systems:** Online retailers use ensemble models in recommendation engines to deliver personalized product suggestions, combining base learners that capture different aspects of user behavior, purchase history, and market trends.\n",
        "\n",
        "  **Natural Language Processing (NLP):** NLP tasks such as sentiment analysis, machine translation, and text summarization benefit from ensemble learning. By merging predictions from models trained on different language pairs or sentiment lexicons, ensembles achieve higher precision in interpreting and processing text data.\n",
        "\n",
        "  **Remote Sensing:** In applications like environmental monitoring and land use classification, ensemble models analyze satellite images and other geospatial data to provide accurate, up-to-date information for environmental management and disaster response.\n",
        "\n",
        "  **Autonomous Vehicles:** Self-driving cars rely heavily on ensemble learning for sensor fusion and decision-making, improving navigation, object recognition, and safety by merging insights from models that process data from cameras, lidar, and radar.\n",
        "\n",
        " **Sports Analytics:** Ensembles are used to analyze player performance, predict game outcomes, and refine injury predictions, providing coaches and analysts with deeper insights by combining different predictive models.\n",
        "\n",
        "  > These examples showcase the versatility of ensemble techniques, which are instrumental in solving complex, high-stakes problems across industries by leveraging the strengths and diversity of multiple models."
      ],
      "metadata": {
        "id": "j_CWqsyED-3j"
      }
    },
    {
      "cell_type": "markdown",
      "source": [
        "**20. What is the difference between Bagging and Boosting?**\n",
        "- Bagging and Boosting are two popular ensemble learning techniques used to enhance the performance and stability of machine learning models, but they take fundamentally different approaches to achieve this improvement.\n",
        "\n",
        " ** Bagging,** or Bootstrap Aggregating, works by training several models independently and in parallel on different random subsets of the data, created through sampling with replacement. Each model is treated equally, and their final predictions are usually combined by majority voting (for classification) or averaging (for regression). The main goal of bagging is to reduce variance in the predictions by “smoothing out” the idiosyncratic errors individual models might make. Because all models are built independently, bagging is highly parallelizable and well-suited for unstable models prone to overfitting—like full decision trees. Random Forest is a well-known example of a bagging technique.\n",
        "\n",
        "  In contrast, **Boosting** builds models sequentially, where each new model attempts to correct the mistakes of its predecessor. Rather than splitting the data randomly, boosting re-weights or focuses more on those instances which previous models have misclassified or poorly predicted. As a result, later models in the sequence sharpen the overall ensemble’s accuracy by being more attuned to the challenging cases. The final prediction is made by a weighted combination of all models, with models that perform better given more influence. Boosting is primarily designed to reduce both bias and variance, often resulting in higher accuracy, but it can be more prone to overfitting, especially with noisy data or excessive iterations. Popular boosting algorithms include AdaBoost, Gradient Boosting Machines (GBM), and XGBoost."
      ],
      "metadata": {
        "id": "kzjl-0uVEXdl"
      }
    },
    {
      "cell_type": "markdown",
      "source": [
        "# Practical"
      ],
      "metadata": {
        "id": "xKlvdhEsEpMg"
      }
    },
    {
      "cell_type": "markdown",
      "source": [
        "**21. Train a Bagging Classifier using Decision Trees on a sample dataset and print model accuracy.**"
      ],
      "metadata": {
        "id": "hrSK90PQEsSz"
      }
    },
    {
      "cell_type": "code",
      "source": [
        "from sklearn.datasets import load_iris\n",
        "from sklearn.model_selection import train_test_split\n",
        "from sklearn.ensemble import BaggingClassifier\n",
        "from sklearn.tree import DecisionTreeClassifier\n",
        "from sklearn.metrics import accuracy_score\n",
        "\n",
        "# Load the Iris dataset\n",
        "iris = load_iris()\n",
        "X, y = iris.data, iris.target\n",
        "\n",
        "# Split into training and test sets\n",
        "X_train, X_test, y_train, y_test = train_test_split(X, y, test_size=0.2, random_state=42)\n",
        "\n",
        "# Create a Bagging Classifier with Decision Trees as base estimators\n",
        "bagging_clf = BaggingClassifier(\n",
        "    estimator=DecisionTreeClassifier(),\n",
        "    n_estimators=10,\n",
        "    random_state=42\n",
        ")\n",
        "\n",
        "# Train the Bagging Classifier\n",
        "bagging_clf.fit(X_train, y_train)\n",
        "\n",
        "# Predict on the test set\n",
        "y_pred = bagging_clf.predict(X_test)\n",
        "\n",
        "# Calculate and print accuracy\n",
        "accuracy = accuracy_score(y_test, y_pred)\n",
        "print(\"Bagging Classifier Accuracy:\", accuracy)\n"
      ],
      "metadata": {
        "colab": {
          "base_uri": "https://localhost:8080/"
        },
        "id": "d_5sMT_5EwQe",
        "outputId": "7807e852-0d4a-43c4-9762-8f5177889761"
      },
      "execution_count": 2,
      "outputs": [
        {
          "output_type": "stream",
          "name": "stdout",
          "text": [
            "Bagging Classifier Accuracy: 1.0\n"
          ]
        }
      ]
    },
    {
      "cell_type": "markdown",
      "source": [
        "**22. Train a Bagging Regressor using Decision Trees and evaluate using Mean Squared Error (MSE).**"
      ],
      "metadata": {
        "id": "EjtxOa4XFOB5"
      }
    },
    {
      "cell_type": "code",
      "source": [
        "from sklearn.datasets import fetch_california_housing\n",
        "from sklearn.model_selection import train_test_split\n",
        "from sklearn.ensemble import BaggingRegressor\n",
        "from sklearn.tree import DecisionTreeRegressor\n",
        "from sklearn.metrics import mean_squared_error\n",
        "\n",
        "# Load a sample regression dataset\n",
        "data = fetch_california_housing()\n",
        "X, y = data.data, data.target\n",
        "\n",
        "# Split data into training and testing sets\n",
        "X_train, X_test, y_train, y_test = train_test_split(X, y, test_size=0.2, random_state=42)\n",
        "\n",
        "# Create the base regressor\n",
        "base_model = DecisionTreeRegressor(random_state=42)\n",
        "\n",
        "# Set up the Bagging Regressor (scikit-learn >=1.2 uses 'estimator=' keyword)\n",
        "bagging_regressor = BaggingRegressor(\n",
        "    estimator=base_model,\n",
        "    n_estimators=10,\n",
        "    random_state=42\n",
        ")\n",
        "\n",
        "# Train the Bagging Regressor\n",
        "bagging_regressor.fit(X_train, y_train)\n",
        "\n",
        "# Make predictions\n",
        "y_pred = bagging_regressor.predict(X_test)\n",
        "\n",
        "# Calculate Mean Squared Error\n",
        "mse = mean_squared_error(y_test, y_pred)\n",
        "print(f\"Mean Squared Error: {mse:.4f}\")\n"
      ],
      "metadata": {
        "colab": {
          "base_uri": "https://localhost:8080/"
        },
        "id": "a2Eum0wFFST3",
        "outputId": "87f9eac7-a00e-4fad-de4e-009a07187eeb"
      },
      "execution_count": 3,
      "outputs": [
        {
          "output_type": "stream",
          "name": "stdout",
          "text": [
            "Mean Squared Error: 0.2824\n"
          ]
        }
      ]
    },
    {
      "cell_type": "markdown",
      "source": [
        "**23. Train a Random Forest Classifier on the Breast Cancer dataset and print feature importance scores.**"
      ],
      "metadata": {
        "id": "YIHQOva5FWmE"
      }
    },
    {
      "cell_type": "code",
      "source": [
        "from sklearn.datasets import load_breast_cancer\n",
        "from sklearn.ensemble import RandomForestClassifier\n",
        "import pandas as pd\n",
        "\n",
        "# Load the breast cancer dataset\n",
        "data = load_breast_cancer()\n",
        "X, y = data.data, data.target\n",
        "\n",
        "# Initialize and fit the Random Forest\n",
        "rf = RandomForestClassifier(n_estimators=100, random_state=42)\n",
        "rf.fit(X, y)\n",
        "\n",
        "# Create a pandas Series for feature importances\n",
        "importances = pd.Series(rf.feature_importances_, index=data.feature_names)\n",
        "\n",
        "# Print feature importance scores sorted in descending order\n",
        "importances_sorted = importances.sort_values(ascending=False)\n",
        "print(\"Feature Importances (Descending Order):\")\n",
        "print(importances_sorted)\n"
      ],
      "metadata": {
        "colab": {
          "base_uri": "https://localhost:8080/"
        },
        "id": "lE1wqqHaFZt2",
        "outputId": "77e96c29-0ea2-40f0-995d-1c256b1154ec"
      },
      "execution_count": 4,
      "outputs": [
        {
          "output_type": "stream",
          "name": "stdout",
          "text": [
            "Feature Importances (Descending Order):\n",
            "worst area                 0.139357\n",
            "worst concave points       0.132225\n",
            "mean concave points        0.107046\n",
            "worst radius               0.082848\n",
            "worst perimeter            0.080850\n",
            "mean perimeter             0.067990\n",
            "mean concavity             0.066917\n",
            "mean area                  0.060462\n",
            "worst concavity            0.037339\n",
            "mean radius                0.034843\n",
            "area error                 0.029553\n",
            "worst compactness          0.019864\n",
            "worst texture              0.017485\n",
            "mean texture               0.015225\n",
            "radius error               0.014264\n",
            "worst smoothness           0.012232\n",
            "mean compactness           0.011597\n",
            "perimeter error            0.010085\n",
            "worst symmetry             0.008179\n",
            "mean smoothness            0.007958\n",
            "fractal dimension error    0.005942\n",
            "concavity error            0.005820\n",
            "compactness error          0.005612\n",
            "smoothness error           0.004722\n",
            "worst fractal dimension    0.004497\n",
            "concave points error       0.003760\n",
            "texture error              0.003744\n",
            "symmetry error             0.003546\n",
            "mean symmetry              0.003423\n",
            "mean fractal dimension     0.002615\n",
            "dtype: float64\n"
          ]
        }
      ]
    },
    {
      "cell_type": "markdown",
      "source": [
        "**24. Train a Random Forest Regressor and compare its performance with a single Decision Tree.**"
      ],
      "metadata": {
        "id": "zb7qaN1kFn6L"
      }
    },
    {
      "cell_type": "code",
      "source": [
        "from sklearn.datasets import fetch_california_housing\n",
        "from sklearn.model_selection import train_test_split\n",
        "from sklearn.tree import DecisionTreeRegressor\n",
        "from sklearn.ensemble import RandomForestRegressor\n",
        "from sklearn.metrics import mean_squared_error, r2_score\n",
        "\n",
        "# Load the California Housing dataset\n",
        "data = fetch_california_housing()\n",
        "X, y = data.data, data.target\n",
        "\n",
        "# Split into training and testing data\n",
        "X_train, X_test, y_train, y_test = train_test_split(X, y, test_size=0.2, random_state=42)\n",
        "\n",
        "# Train a single Decision Tree Regressor\n",
        "dt = DecisionTreeRegressor(random_state=42)\n",
        "dt.fit(X_train, y_train)\n",
        "y_pred_dt = dt.predict(X_test)\n",
        "mse_dt = mean_squared_error(y_test, y_pred_dt)\n",
        "r2_dt = r2_score(y_test, y_pred_dt)\n",
        "\n",
        "# Train a Random Forest Regressor\n",
        "rf = RandomForestRegressor(n_estimators=100, random_state=42)\n",
        "rf.fit(X_train, y_train)\n",
        "y_pred_rf = rf.predict(X_test)\n",
        "mse_rf = mean_squared_error(y_test, y_pred_rf)\n",
        "r2_rf = r2_score(y_test, y_pred_rf)\n",
        "\n",
        "# Print and compare results\n",
        "print(f\"Decision Tree     - MSE: {mse_dt:.3f}, R^2: {r2_dt:.3f}\")\n",
        "print(f\"Random Forest     - MSE: {mse_rf:.3f}, R^2: {r2_rf:.3f}\")\n"
      ],
      "metadata": {
        "colab": {
          "base_uri": "https://localhost:8080/"
        },
        "id": "n5L7yQb7FsGe",
        "outputId": "3f131bef-843e-4541-f94a-c687c1f76939"
      },
      "execution_count": 5,
      "outputs": [
        {
          "output_type": "stream",
          "name": "stdout",
          "text": [
            "Decision Tree     - MSE: 0.495, R^2: 0.622\n",
            "Random Forest     - MSE: 0.255, R^2: 0.805\n"
          ]
        }
      ]
    },
    {
      "cell_type": "markdown",
      "source": [
        "**25. Compute the Out-of-Bag (OOB) Score for a Random Forest Classifier.**"
      ],
      "metadata": {
        "id": "AXmd0O_gF-8-"
      }
    },
    {
      "cell_type": "code",
      "source": [
        "from sklearn.datasets import load_breast_cancer\n",
        "from sklearn.ensemble import RandomForestClassifier\n",
        "\n",
        "# Load a sample dataset (Breast Cancer)\n",
        "X, y = load_breast_cancer(return_X_y=True)\n",
        "\n",
        "# Initialize the Random Forest with OOB scoring enabled\n",
        "rf = RandomForestClassifier(n_estimators=100, oob_score=True, random_state=42)\n",
        "\n",
        "# Fit the model\n",
        "rf.fit(X, y)\n",
        "\n",
        "# Print the OOB score (estimated accuracy)\n",
        "print(\"OOB Score:\", rf.oob_score_)\n"
      ],
      "metadata": {
        "colab": {
          "base_uri": "https://localhost:8080/"
        },
        "id": "4EF2-jtbGHRX",
        "outputId": "2ec116c4-03f9-4a8c-e897-2d5331ed8ec1"
      },
      "execution_count": 6,
      "outputs": [
        {
          "output_type": "stream",
          "name": "stdout",
          "text": [
            "OOB Score: 0.961335676625659\n"
          ]
        }
      ]
    },
    {
      "cell_type": "markdown",
      "source": [
        "**26. Train a Bagging Classifier using SVM as a base estimator and print accuracy.**"
      ],
      "metadata": {
        "id": "y6fWswRgGMBj"
      }
    },
    {
      "cell_type": "code",
      "source": [
        "from sklearn.datasets import load_iris\n",
        "from sklearn.model_selection import train_test_split\n",
        "from sklearn.ensemble import BaggingClassifier\n",
        "from sklearn.svm import SVC\n",
        "from sklearn.preprocessing import StandardScaler\n",
        "from sklearn.metrics import accuracy_score\n",
        "from sklearn.pipeline import make_pipeline\n",
        "\n",
        "# Load Iris dataset\n",
        "X, y = load_iris(return_X_y=True)\n",
        "\n",
        "# Split data into train and test sets\n",
        "X_train, X_test, y_train, y_test = train_test_split(X, y, test_size=0.2, random_state=42)\n",
        "\n",
        "# It's important to scale features before using SVM!\n",
        "base_svm = make_pipeline(StandardScaler(), SVC())  # pipeline ensures proper scaling\n",
        "\n",
        "# Create Bagging Classifier using SVM as the base estimator\n",
        "bagging_svm = BaggingClassifier(\n",
        "    estimator=base_svm,   # use 'base_estimator' if using scikit-learn < 1.2\n",
        "    n_estimators=10,\n",
        "    random_state=42\n",
        ")\n",
        "\n",
        "# Train the Bagging Classifier\n",
        "bagging_svm.fit(X_train, y_train)\n",
        "\n",
        "# Predict and print accuracy\n",
        "y_pred = bagging_svm.predict(X_test)\n",
        "accuracy = accuracy_score(y_test, y_pred)\n",
        "print(f\"Bagging Classifier with SVM base estimator Accuracy: {accuracy:.4f}\")\n"
      ],
      "metadata": {
        "colab": {
          "base_uri": "https://localhost:8080/"
        },
        "id": "5tRVa0ztGOMO",
        "outputId": "b55b8f4d-31d5-4179-c302-0e6d9eb405ef"
      },
      "execution_count": 7,
      "outputs": [
        {
          "output_type": "stream",
          "name": "stdout",
          "text": [
            "Bagging Classifier with SVM base estimator Accuracy: 1.0000\n"
          ]
        }
      ]
    },
    {
      "cell_type": "markdown",
      "source": [
        "**27. Train a Random Forest Classifier with different numbers of trees and compare accuracy.**"
      ],
      "metadata": {
        "id": "Nqg471hZGbGS"
      }
    },
    {
      "cell_type": "code",
      "source": [
        "from sklearn.datasets import load_iris\n",
        "from sklearn.model_selection import train_test_split\n",
        "from sklearn.ensemble import RandomForestClassifier\n",
        "from sklearn.metrics import accuracy_score\n",
        "import matplotlib.pyplot as plt\n",
        "\n",
        "# Load the Iris dataset\n",
        "X, y = load_iris(return_X_y=True)\n",
        "X_train, X_test, y_train, y_test = train_test_split(X, y, test_size=0.2, random_state=42)\n",
        "\n",
        "n_estimators_range = [1, 5, 10, 50, 100, 200]\n",
        "accuracies = []\n",
        "\n",
        "for n in n_estimators_range:\n",
        "    clf = RandomForestClassifier(n_estimators=n, random_state=42)\n",
        "    clf.fit(X_train, y_train)\n",
        "    y_pred = clf.predict(X_test)\n",
        "    acc = accuracy_score(y_test, y_pred)\n",
        "    accuracies.append(acc)\n",
        "    print(f\"n_estimators={n}: Test accuracy = {acc:.4f}\")\n",
        "\n",
        "# Optional: Plot the results\n",
        "plt.plot(n_estimators_range, accuracies, marker='o')\n",
        "plt.xlabel('Number of Trees (n_estimators)')\n",
        "plt.ylabel('Test Accuracy')\n",
        "plt.title('Effect of n_estimators on Random Forest Accuracy')\n",
        "plt.show()\n"
      ],
      "metadata": {
        "colab": {
          "base_uri": "https://localhost:8080/",
          "height": 576
        },
        "id": "DOTyzkHRGeij",
        "outputId": "5c48dc57-011f-499b-8053-8e408d4167c1"
      },
      "execution_count": 8,
      "outputs": [
        {
          "output_type": "stream",
          "name": "stdout",
          "text": [
            "n_estimators=1: Test accuracy = 1.0000\n",
            "n_estimators=5: Test accuracy = 0.9667\n",
            "n_estimators=10: Test accuracy = 1.0000\n",
            "n_estimators=50: Test accuracy = 1.0000\n",
            "n_estimators=100: Test accuracy = 1.0000\n",
            "n_estimators=200: Test accuracy = 1.0000\n"
          ]
        },
        {
          "output_type": "display_data",
          "data": {
            "text/plain": [
              "<Figure size 640x480 with 1 Axes>"
            ],
            "image/png": "[encoded data removed]"
          },
          "metadata": {}
        }
      ]
    },
    {
      "cell_type": "markdown",
      "source": [
        "**28. Train a Bagging Classifier using Logistic Regression as a base estimator and print AUC score.**"
      ],
      "metadata": {
        "id": "XiY4bP7UG1D5"
      }
    },
    {
      "cell_type": "code",
      "source": [
        "from sklearn.datasets import load_breast_cancer\n",
        "from sklearn.model_selection import train_test_split\n",
        "from sklearn.ensemble import BaggingClassifier\n",
        "from sklearn.linear_model import LogisticRegression\n",
        "from sklearn.preprocessing import StandardScaler\n",
        "from sklearn.pipeline import make_pipeline\n",
        "from sklearn.metrics import roc_auc_score\n",
        "\n",
        "# Load data\n",
        "X, y = load_breast_cancer(return_X_y=True)\n",
        "\n",
        "# Train/test split\n",
        "X_train, X_test, y_train, y_test = train_test_split(X, y, test_size=0.2, random_state=42)\n",
        "\n",
        "# Logistic Regression needs feature scaling!\n",
        "logreg_pipe = make_pipeline(StandardScaler(), LogisticRegression(max_iter=1000))\n",
        "\n",
        "# Create Bagging Classifier with Logistic Regression as base estimator\n",
        "bagging_clf = BaggingClassifier(\n",
        "    estimator=logreg_pipe,    # use 'base_estimator' for scikit-learn < 1.2\n",
        "    n_estimators=20,\n",
        "    random_state=42\n",
        ")\n",
        "\n",
        "# Train\n",
        "bagging_clf.fit(X_train, y_train)\n",
        "\n",
        "# Predict probabilities\n",
        "y_proba = bagging_clf.predict_proba(X_test)[:, 1]  # Probability of the positive class\n",
        "\n",
        "# Compute AUC score\n",
        "auc = roc_auc_score(y_test, y_proba)\n",
        "print(f\"Bagging Classifier with Logistic Regression base estimator AUC score: {auc:.4f}\")\n"
      ],
      "metadata": {
        "colab": {
          "base_uri": "https://localhost:8080/"
        },
        "id": "qZbbPySoG6wq",
        "outputId": "b4628b6a-6f6d-4a44-ad5c-064812727f00"
      },
      "execution_count": 9,
      "outputs": [
        {
          "output_type": "stream",
          "name": "stdout",
          "text": [
            "Bagging Classifier with Logistic Regression base estimator AUC score: 0.9971\n"
          ]
        }
      ]
    },
    {
      "cell_type": "markdown",
      "source": [
        "**29. Train a Random Forest Regressor and analyze feature importance scores.**"
      ],
      "metadata": {
        "id": "fRDuMb9EHE7X"
      }
    },
    {
      "cell_type": "code",
      "source": [
        "from sklearn.datasets import fetch_california_housing\n",
        "from sklearn.model_selection import train_test_split\n",
        "from sklearn.ensemble import RandomForestRegressor\n",
        "import matplotlib.pyplot as plt\n",
        "import pandas as pd\n",
        "\n",
        "# Load the dataset\n",
        "data = fetch_california_housing()\n",
        "X, y = pd.DataFrame(data.data, columns=data.feature_names), data.target\n",
        "\n",
        "# Train/test split\n",
        "X_train, X_test, y_train, y_test = train_test_split(X, y, test_size=0.2, random_state=42)\n",
        "\n",
        "# Train Random Forest Regressor\n",
        "rf = RandomForestRegressor(n_estimators=100, random_state=42)\n",
        "rf.fit(X_train, y_train)\n",
        "\n",
        "# Get feature importance scores\n",
        "importances = rf.feature_importances_\n",
        "feature_names = X.columns\n",
        "\n",
        "# Create a Series for better visualization\n",
        "importances_series = pd.Series(importances, index=feature_names).sort_values(ascending=True)\n",
        "\n",
        "# Plot feature importance\n",
        "plt.figure(figsize=(8, 6))\n",
        "importances_series.plot(kind='barh')\n",
        "plt.title('Feature Importance in Random Forest Regressor')\n",
        "plt.xlabel('Relative Importance')\n",
        "plt.ylabel('Feature')\n",
        "plt.tight_layout()\n",
        "plt.show()\n"
      ],
      "metadata": {
        "colab": {
          "base_uri": "https://localhost:8080/",
          "height": 607
        },
        "id": "qRHyZULqHIHW",
        "outputId": "537ae3d8-a196-4f80-d475-f9aec00adbf6"
      },
      "execution_count": 10,
      "outputs": [
        {
          "output_type": "display_data",
          "data": {
            "text/plain": [
              "<Figure size 800x600 with 1 Axes>"
            ],
            "image/png": "[encoded data removed]"
          },
          "metadata": {}
        }
      ]
    },
    {
      "cell_type": "markdown",
      "source": [
        "**30. Train an ensemble model using both Bagging and Random Forest and compare accuracy.**"
      ],
      "metadata": {
        "id": "hr1_Lh3IHN-V"
      }
    },
    {
      "cell_type": "code",
      "source": [
        "from sklearn.datasets import load_iris\n",
        "from sklearn.model_selection import train_test_split\n",
        "from sklearn.ensemble import BaggingClassifier, RandomForestClassifier\n",
        "from sklearn.tree import DecisionTreeClassifier\n",
        "from sklearn.metrics import accuracy_score\n",
        "\n",
        "# Load dataset\n",
        "X, y = load_iris(return_X_y=True)\n",
        "\n",
        "# Split into training and testing sets\n",
        "X_train, X_test, y_train, y_test = train_test_split(X, y, test_size=0.2, random_state=42)\n",
        "\n",
        "# Bagging Classifier with Decision Tree base estimator\n",
        "bagging = BaggingClassifier(\n",
        "    estimator=DecisionTreeClassifier(),\n",
        "    n_estimators=50,\n",
        "    random_state=42\n",
        ")\n",
        "bagging.fit(X_train, y_train)\n",
        "y_pred_bag = bagging.predict(X_test)\n",
        "bagging_acc = accuracy_score(y_test, y_pred_bag)\n",
        "\n",
        "# Random Forest Classifier\n",
        "rf = RandomForestClassifier(\n",
        "    n_estimators=50,\n",
        "    random_state=42\n",
        ")\n",
        "rf.fit(X_train, y_train)\n",
        "y_pred_rf = rf.predict(X_test)\n",
        "rf_acc = accuracy_score(y_test, y_pred_rf)\n",
        "\n",
        "print(f\"Bagging Classifier Accuracy:      {bagging_acc:.4f}\")\n",
        "print(f\"Random Forest Classifier Accuracy: {rf_acc:.4f}\")\n"
      ],
      "metadata": {
        "colab": {
          "base_uri": "https://localhost:8080/"
        },
        "id": "ogcx8t6-HQ43",
        "outputId": "f7b94a54-29e9-47ab-cc3f-bc910e224fea"
      },
      "execution_count": 11,
      "outputs": [
        {
          "output_type": "stream",
          "name": "stdout",
          "text": [
            "Bagging Classifier Accuracy:      1.0000\n",
            "Random Forest Classifier Accuracy: 1.0000\n"
          ]
        }
      ]
    },
    {
      "cell_type": "markdown",
      "source": [
        "**31. Train a Random Forest Classifier and tune hyperparameters using GridSearchCV.**"
      ],
      "metadata": {
        "id": "ZwDHsRI0HbSq"
      }
    },
    {
      "cell_type": "code",
      "source": [
        "from sklearn.datasets import load_iris\n",
        "from sklearn.model_selection import train_test_split, GridSearchCV\n",
        "from sklearn.ensemble import RandomForestClassifier\n",
        "from sklearn.metrics import accuracy_score\n",
        "\n",
        "# Load data\n",
        "X, y = load_iris(return_X_y=True)\n",
        "X_train, X_test, y_train, y_test = train_test_split(X, y, test_size=0.2, random_state=42)\n",
        "\n",
        "# Define hyperparameter grid\n",
        "param_grid = {\n",
        "    'n_estimators': [50, 100, 150],\n",
        "    'max_depth': [None, 10, 20],\n",
        "    'min_samples_split': [2, 5],\n",
        "    'min_samples_leaf': [1, 2],\n",
        "    'max_features': ['sqrt', 'log2']\n",
        "}\n",
        "\n",
        "# Initialize Random Forest and GridSearchCV\n",
        "rf = RandomForestClassifier(random_state=42)\n",
        "grid_search = GridSearchCV(estimator=rf, param_grid=param_grid, cv=5, scoring='accuracy', n_jobs=-1)\n",
        "\n",
        "# Fit GridSearchCV\n",
        "grid_search.fit(X_train, y_train)\n",
        "\n",
        "# Evaluate best model\n",
        "best_rf = grid_search.best_estimator_\n",
        "y_pred = best_rf.predict(X_test)\n",
        "accuracy = accuracy_score(y_test, y_pred)\n",
        "\n",
        "print(\"Best Hyperparameters from Grid Search:\", grid_search.best_params_)\n",
        "print(f\"Test set accuracy: {accuracy:.4f}\")\n"
      ],
      "metadata": {
        "colab": {
          "base_uri": "https://localhost:8080/"
        },
        "id": "rmx6UMx9HegG",
        "outputId": "6a21fe1c-0d1b-4c95-f70b-c80baaa97d97"
      },
      "execution_count": 12,
      "outputs": [
        {
          "output_type": "stream",
          "name": "stdout",
          "text": [
            "Best Hyperparameters from Grid Search: {'max_depth': None, 'max_features': 'sqrt', 'min_samples_leaf': 2, 'min_samples_split': 2, 'n_estimators': 150}\n",
            "Test set accuracy: 1.0000\n"
          ]
        }
      ]
    },
    {
      "cell_type": "markdown",
      "source": [
        "**32. Train a Bagging Regressor with different numbers of base estimators and compare performance.**"
      ],
      "metadata": {
        "id": "qdFQ918tHhoX"
      }
    },
    {
      "cell_type": "code",
      "source": [
        "from sklearn.datasets import fetch_california_housing\n",
        "from sklearn.model_selection import train_test_split\n",
        "from sklearn.ensemble import BaggingRegressor\n",
        "from sklearn.tree import DecisionTreeRegressor\n",
        "from sklearn.metrics import mean_squared_error\n",
        "import matplotlib.pyplot as plt\n",
        "\n",
        "# Load the California Housing dataset\n",
        "data = fetch_california_housing()\n",
        "X, y = data.data, data.target\n",
        "\n",
        "# Split into training and test sets\n",
        "X_train, X_test, y_train, y_test = train_test_split(X, y, test_size=0.2, random_state=42)\n",
        "\n",
        "# Range of n_estimators to compare\n",
        "n_estimators_range = [1, 5, 10, 20, 50, 100]\n",
        "mse_scores = []\n",
        "\n",
        "for n in n_estimators_range:\n",
        "    bagging = BaggingRegressor(\n",
        "        estimator=DecisionTreeRegressor(random_state=42),\n",
        "        n_estimators=n,\n",
        "        random_state=42\n",
        "    )\n",
        "    bagging.fit(X_train, y_train)\n",
        "    y_pred = bagging.predict(X_test)\n",
        "    mse = mean_squared_error(y_test, y_pred)\n",
        "    mse_scores.append(mse)\n",
        "    print(f'n_estimators={n}: Mean Squared Error = {mse:.4f}')\n",
        "\n",
        "# Plot performance\n",
        "plt.figure(figsize=(8,5))\n",
        "plt.plot(n_estimators_range, mse_scores, marker='o')\n",
        "plt.xlabel('Number of Base Estimators (n_estimators)')\n",
        "plt.ylabel('Mean Squared Error (MSE)')\n",
        "plt.title('Bagging Regressor Performance vs. Number of Estimators')\n",
        "plt.grid(True)\n",
        "plt.show()\n"
      ],
      "metadata": {
        "colab": {
          "base_uri": "https://localhost:8080/",
          "height": 591
        },
        "id": "gCjs1mqQHkY6",
        "outputId": "674549e6-d33b-49cc-920b-7f6196c7742f"
      },
      "execution_count": 13,
      "outputs": [
        {
          "output_type": "stream",
          "name": "stdout",
          "text": [
            "n_estimators=1: Mean Squared Error = 0.5501\n",
            "n_estimators=5: Mean Squared Error = 0.3060\n",
            "n_estimators=10: Mean Squared Error = 0.2824\n",
            "n_estimators=20: Mean Squared Error = 0.2643\n",
            "n_estimators=50: Mean Squared Error = 0.2573\n",
            "n_estimators=100: Mean Squared Error = 0.2559\n"
          ]
        },
        {
          "output_type": "display_data",
          "data": {
            "text/plain": [
              "<Figure size 800x500 with 1 Axes>"
            ],
            "image/png": "[encoded data removed]"
          },
          "metadata": {}
        }
      ]
    },
    {
      "cell_type": "markdown",
      "source": [
        "**33. Train a Random Forest Classifier and analyze misclassified samples.**"
      ],
      "metadata": {
        "id": "UwyqTyzyIJdz"
      }
    },
    {
      "cell_type": "code",
      "source": [
        "from sklearn.datasets import load_iris\n",
        "from sklearn.model_selection import train_test_split\n",
        "from sklearn.ensemble import RandomForestClassifier\n",
        "import pandas as pd\n",
        "\n",
        "# Load Iris data and split\n",
        "iris = load_iris(as_frame=True)\n",
        "X, y = iris.data, iris.target\n",
        "feature_names = iris.feature_names\n",
        "target_names = iris.target_names\n",
        "X_train, X_test, y_train, y_test = train_test_split(X, y, test_size=0.2, random_state=42)\n",
        "\n",
        "# Train Random Forest\n",
        "rf = RandomForestClassifier(n_estimators=100, random_state=42)\n",
        "rf.fit(X_train, y_train)\n",
        "y_pred = rf.predict(X_test)\n",
        "\n",
        "# Find misclassified samples\n",
        "misclassified = X_test[y_pred != y_test]\n",
        "actual_labels = y_test[y_pred != y_test]\n",
        "predicted_labels = y_pred[y_pred != y_test]\n",
        "\n",
        "# Combine for analysis\n",
        "misclassified_df = misclassified.copy()\n",
        "misclassified_df['Actual'] = actual_labels.map(lambda idx: target_names[idx])\n",
        "misclassified_df['Predicted'] = list(map(lambda idx: target_names[idx], predicted_labels))\n",
        "\n",
        "print(\"Misclassified Samples in Test Set:\")\n",
        "print(misclassified_df)\n"
      ],
      "metadata": {
        "colab": {
          "base_uri": "https://localhost:8080/"
        },
        "id": "Bk3IpCQqIM2H",
        "outputId": "9440852b-e812-44bd-a22e-3bff2f116799"
      },
      "execution_count": 14,
      "outputs": [
        {
          "output_type": "stream",
          "name": "stdout",
          "text": [
            "Misclassified Samples in Test Set:\n",
            "Empty DataFrame\n",
            "Columns: [sepal length (cm), sepal width (cm), petal length (cm), petal width (cm), Actual, Predicted]\n",
            "Index: []\n"
          ]
        }
      ]
    },
    {
      "cell_type": "markdown",
      "source": [
        "**34. Train a Bagging Classifier and compare its performance with a single Decision Tree Classifier.**"
      ],
      "metadata": {
        "id": "eW5kakmlIh7K"
      }
    },
    {
      "cell_type": "code",
      "source": [
        "from sklearn.datasets import load_wine  # You can use load_iris, load_wine, etc.\n",
        "from sklearn.model_selection import train_test_split\n",
        "from sklearn.tree import DecisionTreeClassifier\n",
        "from sklearn.ensemble import BaggingClassifier\n",
        "from sklearn.metrics import accuracy_score\n",
        "\n",
        "# Load a dataset\n",
        "data = load_wine(as_frame=True)\n",
        "X, y = data.data, data.target\n",
        "\n",
        "# Train/test split\n",
        "X_train, X_test, y_train, y_test = train_test_split(X, y, test_size=0.25, random_state=22)\n",
        "\n",
        "# 1. Train a single Decision Tree Classifier\n",
        "dtree = DecisionTreeClassifier(random_state=22)\n",
        "dtree.fit(X_train, y_train)\n",
        "y_pred_tree = dtree.predict(X_test)\n",
        "tree_acc = accuracy_score(y_test, y_pred_tree)\n",
        "print(f\"Decision Tree Test Accuracy: {tree_acc:.3f}\")\n",
        "\n",
        "# 2. Train a Bagging Classifier (with Decision Trees as base estimators)\n",
        "bagging = BaggingClassifier(\n",
        "    estimator=DecisionTreeClassifier(random_state=22),  # base_estimator for old scikit-learn\n",
        "    n_estimators=10,\n",
        "    random_state=22\n",
        ")\n",
        "bagging.fit(X_train, y_train)\n",
        "y_pred_bag = bagging.predict(X_test)\n",
        "bag_acc = accuracy_score(y_test, y_pred_bag)\n",
        "print(f\"Bagging Classifier Test Accuracy: {bag_acc:.3f}\")\n"
      ],
      "metadata": {
        "colab": {
          "base_uri": "https://localhost:8080/"
        },
        "id": "30SFXKcJInai",
        "outputId": "b4e84262-134f-45c3-ab22-4127485619c4"
      },
      "execution_count": 15,
      "outputs": [
        {
          "output_type": "stream",
          "name": "stdout",
          "text": [
            "Decision Tree Test Accuracy: 0.822\n",
            "Bagging Classifier Test Accuracy: 0.956\n"
          ]
        }
      ]
    },
    {
      "cell_type": "markdown",
      "source": [
        "**35. Train a Random Forest Classifier and visualize the confusion matrix.**"
      ],
      "metadata": {
        "id": "QXYI1VEPIvOn"
      }
    },
    {
      "cell_type": "code",
      "source": [
        "from sklearn.datasets import load_wine\n",
        "from sklearn.model_selection import train_test_split\n",
        "from sklearn.ensemble import RandomForestClassifier\n",
        "from sklearn.metrics import ConfusionMatrixDisplay, confusion_matrix\n",
        "import matplotlib.pyplot as plt\n",
        "\n",
        "# Load the dataset (you can switch to load_iris or any other)\n",
        "data = load_wine(as_frame=True)\n",
        "X, y = data.data, data.target\n",
        "\n",
        "# Split into training and test sets\n",
        "X_train, X_test, y_train, y_test = train_test_split(X, y, test_size=0.25, random_state=42)\n",
        "\n",
        "# Train the Random Forest Classifier\n",
        "rf = RandomForestClassifier(n_estimators=100, random_state=42)\n",
        "rf.fit(X_train, y_train)\n",
        "y_pred = rf.predict(X_test)\n",
        "\n",
        "# Compute and plot the confusion matrix\n",
        "cm = confusion_matrix(y_test, y_pred, labels=rf.classes_)\n",
        "disp = ConfusionMatrixDisplay(confusion_matrix=cm, display_labels=rf.classes_)\n",
        "disp.plot(cmap=plt.cm.Blues)\n",
        "plt.title(\"Random Forest Confusion Matrix\")\n",
        "plt.show()\n"
      ],
      "metadata": {
        "colab": {
          "base_uri": "https://localhost:8080/",
          "height": 472
        },
        "id": "bWEAnCwoIzl6",
        "outputId": "e9bbae80-c488-4660-d669-1dfac6abc53e"
      },
      "execution_count": 16,
      "outputs": [
        {
          "output_type": "display_data",
          "data": {
            "text/plain": [
              "<Figure size 640x480 with 2 Axes>"
            ],
            "image/png": "[encoded data removed]"
          },
          "metadata": {}
        }
      ]
    },
    {
      "cell_type": "markdown",
      "source": [
        "**36. Train a Stacking Classifier using Decision Trees, SVM, and Logistic Regression, and compare accuracy.**"
      ],
      "metadata": {
        "id": "0YcYxgYsI2Aa"
      }
    },
    {
      "cell_type": "code",
      "source": [
        "from sklearn.datasets import load_wine\n",
        "from sklearn.model_selection import train_test_split\n",
        "from sklearn.ensemble import StackingClassifier\n",
        "from sklearn.tree import DecisionTreeClassifier\n",
        "from sklearn.svm import SVC\n",
        "from sklearn.linear_model import LogisticRegression\n",
        "from sklearn.metrics import accuracy_score\n",
        "from sklearn.preprocessing import StandardScaler\n",
        "from sklearn.pipeline import make_pipeline\n",
        "\n",
        "# Load dataset\n",
        "X, y = load_wine(return_X_y=True)\n",
        "\n",
        "# Split into train and test sets\n",
        "X_train, X_test, y_train, y_test = train_test_split(X, y, test_size=0.25, random_state=22)\n",
        "\n",
        "# Create pipelines for models that require scaling (SVM, Logistic Regression)\n",
        "svc_pipe = make_pipeline(StandardScaler(), SVC(probability=True, random_state=22))\n",
        "logreg_pipe = make_pipeline(StandardScaler(), LogisticRegression(max_iter=1000, random_state=22))\n",
        "\n",
        "# Base estimators: Decision Tree, SVM, Logistic Regression\n",
        "base_estimators = [\n",
        "    ('dt', DecisionTreeClassifier(random_state=22)),\n",
        "    ('svm', svc_pipe),\n",
        "    ('lr', logreg_pipe)\n",
        "]\n",
        "\n",
        "# Meta-model (final estimator): Logistic Regression\n",
        "stack_clf = StackingClassifier(\n",
        "    estimators=base_estimators,\n",
        "    final_estimator=LogisticRegression(max_iter=1000, random_state=22),\n",
        "    passthrough=False,  # Only use predictions of base estimators for meta-model\n",
        "    cv=5\n",
        ")\n",
        "\n",
        "# Train and evaluate individual models\n",
        "dt = DecisionTreeClassifier(random_state=22)\n",
        "dt.fit(X_train, y_train)\n",
        "dt_acc = accuracy_score(y_test, dt.predict(X_test))\n",
        "\n",
        "svc_pipe.fit(X_train, y_train)\n",
        "svm_acc = accuracy_score(y_test, svc_pipe.predict(X_test))\n",
        "\n",
        "logreg_pipe.fit(X_train, y_train)\n",
        "lr_acc = accuracy_score(y_test, logreg_pipe.predict(X_test))\n",
        "\n",
        "# Train and evaluate stacking classifier\n",
        "stack_clf.fit(X_train, y_train)\n",
        "stack_acc = accuracy_score(y_test, stack_clf.predict(X_test))\n",
        "\n",
        "print(f\"Decision Tree Accuracy:        {dt_acc:.3f}\")\n",
        "print(f\"SVM Accuracy:                  {svm_acc:.3f}\")\n",
        "print(f\"Logistic Regression Accuracy:  {lr_acc:.3f}\")\n",
        "print(f\"Stacking Classifier Accuracy:  {stack_acc:.3f}\")\n"
      ],
      "metadata": {
        "colab": {
          "base_uri": "https://localhost:8080/"
        },
        "id": "M4LuTDYhI5rg",
        "outputId": "4c78a738-f775-40bd-8a1e-dba6e91535af"
      },
      "execution_count": 17,
      "outputs": [
        {
          "output_type": "stream",
          "name": "stdout",
          "text": [
            "Decision Tree Accuracy:        0.822\n",
            "SVM Accuracy:                  0.956\n",
            "Logistic Regression Accuracy:  1.000\n",
            "Stacking Classifier Accuracy:  1.000\n"
          ]
        }
      ]
    },
    {
      "cell_type": "markdown",
      "source": [
        "**37. Train a Random Forest Classifier and print the top 5 most important features.**"
      ],
      "metadata": {
        "id": "F5UM7YyFI-IM"
      }
    },
    {
      "cell_type": "code",
      "source": [
        "from sklearn.datasets import load_wine  # Replace with your dataset if needed\n",
        "from sklearn.ensemble import RandomForestClassifier\n",
        "from sklearn.model_selection import train_test_split\n",
        "import pandas as pd\n",
        "\n",
        "# Load data and split\n",
        "data = load_wine(as_frame=True)\n",
        "X, y = data.data, data.target\n",
        "X_train, X_test, y_train, y_test = train_test_split(X, y, test_size=0.25, random_state=42)\n",
        "\n",
        "# Train Random Forest Classifier\n",
        "rf = RandomForestClassifier(n_estimators=100, random_state=42)\n",
        "rf.fit(X_train, y_train)\n",
        "\n",
        "# Create DataFrame of feature importances\n",
        "importances = pd.Series(rf.feature_importances_, index=X.columns)\n",
        "top5 = importances.sort_values(ascending=False).head(5)\n",
        "\n",
        "print(\"Top 5 Most Important Features:\")\n",
        "print(top5)\n"
      ],
      "metadata": {
        "colab": {
          "base_uri": "https://localhost:8080/"
        },
        "id": "PJquwqvYJCor",
        "outputId": "0f0e1faa-8aca-41f4-f869-162d9ee8064a"
      },
      "execution_count": 18,
      "outputs": [
        {
          "output_type": "stream",
          "name": "stdout",
          "text": [
            "Top 5 Most Important Features:\n",
            "flavanoids                      0.197865\n",
            "color_intensity                 0.184310\n",
            "alcohol                         0.141665\n",
            "proline                         0.137054\n",
            "od280/od315_of_diluted_wines    0.097526\n",
            "dtype: float64\n"
          ]
        }
      ]
    },
    {
      "cell_type": "markdown",
      "source": [
        "**38. Train a Bagging Classifier and evaluate performance using Precision, Recall, and F1-score.**"
      ],
      "metadata": {
        "id": "VpUN1wGTJFXZ"
      }
    },
    {
      "cell_type": "code",
      "source": [
        "from sklearn.datasets import load_wine  # You can use load_iris or others\n",
        "from sklearn.model_selection import train_test_split\n",
        "from sklearn.ensemble import BaggingClassifier\n",
        "from sklearn.tree import DecisionTreeClassifier\n",
        "from sklearn.metrics import precision_score, recall_score, f1_score, classification_report\n",
        "\n",
        "# Load dataset\n",
        "data = load_wine(as_frame=True)\n",
        "X, y = data.data, data.target\n",
        "X_train, X_test, y_train, y_test = train_test_split(X, y, test_size=0.25, random_state=22)\n",
        "\n",
        "# Train the Bagging Classifier\n",
        "bagging = BaggingClassifier(\n",
        "    estimator=DecisionTreeClassifier(random_state=22),\n",
        "    n_estimators=10,\n",
        "    random_state=22\n",
        ")\n",
        "bagging.fit(X_train, y_train)\n",
        "\n",
        "# Predict test set labels\n",
        "y_pred = bagging.predict(X_test)\n",
        "\n",
        "# For multiclass, specify averaging method: 'macro', 'weighted', etc.\n",
        "precision = precision_score(y_test, y_pred, average='weighted')\n",
        "recall = recall_score(y_test, y_pred, average='weighted')\n",
        "f1 = f1_score(y_test, y_pred, average='weighted')\n",
        "\n",
        "print(f\"Bagging Classifier Precision: {precision:.3f}\")\n",
        "print(f\"Bagging Classifier Recall:    {recall:.3f}\")\n",
        "print(f\"Bagging Classifier F1-score:  {f1:.3f}\")\n",
        "\n",
        "# Optional: full per-class breakdown\n",
        "print(\"\\nClassification Report:\\n\")\n",
        "print(classification_report(y_test, y_pred))\n"
      ],
      "metadata": {
        "colab": {
          "base_uri": "https://localhost:8080/"
        },
        "id": "PNb3ZF3JJIkU",
        "outputId": "ef9ae4a1-9f84-4b39-c400-9bdcaeb061b2"
      },
      "execution_count": 19,
      "outputs": [
        {
          "output_type": "stream",
          "name": "stdout",
          "text": [
            "Bagging Classifier Precision: 0.956\n",
            "Bagging Classifier Recall:    0.956\n",
            "Bagging Classifier F1-score:  0.956\n",
            "\n",
            "Classification Report:\n",
            "\n",
            "              precision    recall  f1-score   support\n",
            "\n",
            "           0       0.92      0.92      0.92        13\n",
            "           1       0.94      0.94      0.94        17\n",
            "           2       1.00      1.00      1.00        15\n",
            "\n",
            "    accuracy                           0.96        45\n",
            "   macro avg       0.95      0.95      0.95        45\n",
            "weighted avg       0.96      0.96      0.96        45\n",
            "\n"
          ]
        }
      ]
    },
    {
      "cell_type": "markdown",
      "source": [
        "**39. Train a Random Forest Classifier and analyze the effect of max_depth on accuracy.**"
      ],
      "metadata": {
        "id": "0lsl8OmjJMA4"
      }
    },
    {
      "cell_type": "code",
      "source": [
        "from sklearn.datasets import load_iris\n",
        "from sklearn.ensemble import RandomForestClassifier\n",
        "from sklearn.model_selection import train_test_split\n",
        "from sklearn.metrics import accuracy_score\n",
        "import matplotlib.pyplot as plt\n",
        "\n",
        "# Load iris dataset\n",
        "X, y = load_iris(return_X_y=True)\n",
        "X_train, X_test, y_train, y_test = train_test_split(X, y, test_size=0.2, random_state=42)\n",
        "\n",
        "max_depth_values = list(range(1, 21))\n",
        "accuracies = []\n",
        "for depth in max_depth_values:\n",
        "    rf = RandomForestClassifier(max_depth=depth, random_state=42, n_estimators=100)\n",
        "    rf.fit(X_train, y_train)\n",
        "    y_pred = rf.predict(X_test)\n",
        "    accuracies.append(accuracy_score(y_test, y_pred))\n",
        "\n",
        "plt.plot(max_depth_values, accuracies, marker='o')\n",
        "plt.title('Effect of max_depth on Random Forest Accuracy')\n",
        "plt.xlabel('max_depth')\n",
        "plt.ylabel('Accuracy')\n",
        "plt.grid(True)\n",
        "plt.show()\n"
      ],
      "metadata": {
        "colab": {
          "base_uri": "https://localhost:8080/",
          "height": 472
        },
        "id": "T6DEeym_JPQy",
        "outputId": "4958e54f-eed1-4afc-a811-0292b3ef795a"
      },
      "execution_count": 20,
      "outputs": [
        {
          "output_type": "display_data",
          "data": {
            "text/plain": [
              "<Figure size 640x480 with 1 Axes>"
            ],
            "image/png": "[encoded data removed]"
          },
          "metadata": {}
        }
      ]
    },
    {
      "cell_type": "markdown",
      "source": [
        "**40. Train a Bagging Regressor using different base estimators (DecisionTree and KNeighbors) and compare performance.**"
      ],
      "metadata": {
        "id": "_Ez5ayaKJdbO"
      }
    },
    {
      "cell_type": "code",
      "source": [
        "from sklearn.datasets import fetch_california_housing\n",
        "from sklearn.model_selection import train_test_split\n",
        "from sklearn.ensemble import BaggingRegressor\n",
        "from sklearn.tree import DecisionTreeRegressor\n",
        "from sklearn.neighbors import KNeighborsRegressor\n",
        "from sklearn.metrics import mean_squared_error\n",
        "\n",
        "# Load dataset\n",
        "X, y = fetch_california_housing(return_X_y=True)\n",
        "X_train, X_test, y_train, y_test = train_test_split(X, y, test_size=0.2, random_state=42)\n",
        "\n",
        "# Bagging with Decision Tree\n",
        "bagging_dt = BaggingRegressor(\n",
        "    estimator=DecisionTreeRegressor(random_state=42),\n",
        "    n_estimators=10,\n",
        "    random_state=42\n",
        ")\n",
        "bagging_dt.fit(X_train, y_train)\n",
        "y_pred_dt = bagging_dt.predict(X_test)\n",
        "mse_dt = mean_squared_error(y_test, y_pred_dt)\n",
        "print(f\"Bagging Regressor (Decision Tree) MSE: {mse_dt:.3f}\")\n",
        "\n",
        "# Bagging with K-Neighbors\n",
        "bagging_knn = BaggingRegressor(\n",
        "    estimator=KNeighborsRegressor(),\n",
        "    n_estimators=10,\n",
        "    random_state=42\n",
        ")\n",
        "bagging_knn.fit(X_train, y_train)\n",
        "y_pred_knn = bagging_knn.predict(X_test)\n",
        "mse_knn = mean_squared_error(y_test, y_pred_knn)\n",
        "print(f\"Bagging Regressor (K-Neighbors) MSE: {mse_knn:.3f}\")\n"
      ],
      "metadata": {
        "colab": {
          "base_uri": "https://localhost:8080/"
        },
        "id": "CrNxzMdAJiZv",
        "outputId": "948e8dc9-3552-4128-b36a-d8fbb1fe8723"
      },
      "execution_count": 21,
      "outputs": [
        {
          "output_type": "stream",
          "name": "stdout",
          "text": [
            "Bagging Regressor (Decision Tree) MSE: 0.282\n",
            "Bagging Regressor (K-Neighbors) MSE: 1.097\n"
          ]
        }
      ]
    },
    {
      "cell_type": "markdown",
      "source": [
        "**41. Train a Random Forest Classifier and evaluate its performance using ROC-AUC Score.**"
      ],
      "metadata": {
        "id": "utHq3D5VJx-l"
      }
    },
    {
      "cell_type": "code",
      "source": [
        "from sklearn.datasets import load_wine  # Use your dataset if needed\n",
        "from sklearn.model_selection import train_test_split\n",
        "from sklearn.ensemble import RandomForestClassifier\n",
        "from sklearn.metrics import roc_auc_score\n",
        "from sklearn.preprocessing import label_binarize\n",
        "\n",
        "# Load dataset\n",
        "data = load_wine(as_frame=True)\n",
        "X, y = data.data, data.target\n",
        "n_classes = len(data.target_names)\n",
        "\n",
        "# Train/test split\n",
        "X_train, X_test, y_train, y_test = train_test_split(X, y, test_size=0.25, random_state=42)\n",
        "\n",
        "# Train Random Forest Classifier\n",
        "rf = RandomForestClassifier(n_estimators=100, random_state=42)\n",
        "rf.fit(X_train, y_train)\n",
        "\n",
        "# For multiclass, need to binarize the labels and use predict_proba\n",
        "y_test_bin = label_binarize(y_test, classes=range(n_classes))\n",
        "y_score = rf.predict_proba(X_test)\n",
        "\n",
        "# Compute ROC-AUC (macro-averaged for multiclass)\n",
        "auc = roc_auc_score(y_test_bin, y_score, average='macro', multi_class='ovr')\n",
        "print(f\"Random Forest Classifier ROC-AUC Score (macro-average): {auc:.3f}\")\n"
      ],
      "metadata": {
        "colab": {
          "base_uri": "https://localhost:8080/"
        },
        "id": "MbPUWT0YJ2Ij",
        "outputId": "6e96096a-0354-479e-a634-1d4b0e6692c2"
      },
      "execution_count": 22,
      "outputs": [
        {
          "output_type": "stream",
          "name": "stdout",
          "text": [
            "Random Forest Classifier ROC-AUC Score (macro-average): 1.000\n"
          ]
        }
      ]
    },
    {
      "cell_type": "markdown",
      "source": [
        "**42. Train a Bagging Classifier and evaluate its performance using cross-validation.**"
      ],
      "metadata": {
        "id": "ks2Wh6J4J7JT"
      }
    },
    {
      "cell_type": "code",
      "source": [
        "from sklearn.datasets import load_wine  # Use any classification dataset you prefer\n",
        "from sklearn.ensemble import BaggingClassifier\n",
        "from sklearn.tree import DecisionTreeClassifier\n",
        "from sklearn.model_selection import cross_val_score\n",
        "import numpy as np\n",
        "\n",
        "# Load dataset\n",
        "X, y = load_wine(return_X_y=True)\n",
        "\n",
        "# Define the Bagging Classifier with Decision Tree base estimator\n",
        "bagging = BaggingClassifier(\n",
        "    estimator=DecisionTreeClassifier(random_state=42),\n",
        "    n_estimators=50,\n",
        "    random_state=42\n",
        ")\n",
        "\n",
        "# Evaluate with 5-fold cross-validation\n",
        "cv_scores = cross_val_score(bagging, X, y, cv=5)\n",
        "print(f\"Cross-validation scores: {cv_scores}\")\n",
        "print(f\"Mean CV accuracy: {np.mean(cv_scores):.3f}\")\n"
      ],
      "metadata": {
        "colab": {
          "base_uri": "https://localhost:8080/"
        },
        "id": "ryou9ET9J_08",
        "outputId": "a5c71844-0ce7-40f8-bb45-badf935556b9"
      },
      "execution_count": 23,
      "outputs": [
        {
          "output_type": "stream",
          "name": "stdout",
          "text": [
            "Cross-validation scores: [0.94444444 0.88888889 0.97222222 0.97142857 1.        ]\n",
            "Mean CV accuracy: 0.955\n"
          ]
        }
      ]
    },
    {
      "cell_type": "markdown",
      "source": [
        "**43. Train a Random Forest Classifier and plot the Precision-Recall curve.**"
      ],
      "metadata": {
        "id": "ejVTfUS8KC2Z"
      }
    },
    {
      "cell_type": "code",
      "source": [
        "from sklearn.datasets import load_wine  # You can use any binary or multiclass dataset\n",
        "from sklearn.model_selection import train_test_split\n",
        "from sklearn.ensemble import RandomForestClassifier\n",
        "from sklearn.preprocessing import label_binarize\n",
        "from sklearn.metrics import precision_recall_curve, average_precision_score\n",
        "import matplotlib.pyplot as plt\n",
        "import numpy as np\n",
        "\n",
        "# Load the dataset\n",
        "data = load_wine(as_frame=True)\n",
        "X, y = data.data, data.target\n",
        "n_classes = len(np.unique(y))\n",
        "\n",
        "# Split into train/test sets\n",
        "X_train, X_test, y_train, y_test = train_test_split(X, y, test_size=0.25, random_state=42)\n",
        "\n",
        "# Train Random Forest Classifier\n",
        "rf = RandomForestClassifier(n_estimators=100, random_state=42)\n",
        "rf.fit(X_train, y_train)\n",
        "y_score = rf.predict_proba(X_test)\n",
        "\n",
        "# Binarize the output for multiclass Precision-Recall\n",
        "y_test_binarized = label_binarize(y_test, classes=range(n_classes))\n",
        "\n",
        "# Plot Precision-Recall curve for each class\n",
        "plt.figure(figsize=(8, 6))\n",
        "for i in range(n_classes):\n",
        "    precision, recall, _ = precision_recall_curve(y_test_binarized[:, i], y_score[:, i])\n",
        "    ap_score = average_precision_score(y_test_binarized[:, i], y_score[:, i])\n",
        "    plt.plot(recall, precision, lw=2, label=f\"Class {i} (AP={ap_score:.2f})\")\n",
        "\n",
        "plt.xlabel('Recall')\n",
        "plt.ylabel('Precision')\n",
        "plt.title('Precision-Recall Curve - Random Forest Classifier')\n",
        "plt.legend()\n",
        "plt.grid(True)\n",
        "plt.show()\n"
      ],
      "metadata": {
        "colab": {
          "base_uri": "https://localhost:8080/",
          "height": 564
        },
        "id": "o7zFzShdKHsf",
        "outputId": "f5eba95b-2359-43e8-9703-8ea92341a216"
      },
      "execution_count": 24,
      "outputs": [
        {
          "output_type": "display_data",
          "data": {
            "text/plain": [
              "<Figure size 800x600 with 1 Axes>"
            ],
            "image/png": "[encoded data removed]"
          },
          "metadata": {}
        }
      ]
    },
    {
      "cell_type": "markdown",
      "source": [
        "**44. Train a Stacking Classifier with Random Forest and Logistic Regression and compare accuracy.**"
      ],
      "metadata": {
        "id": "HMczCLOMKNHv"
      }
    },
    {
      "cell_type": "code",
      "source": [
        "from sklearn.datasets import load_wine  # You can use any classification dataset\n",
        "from sklearn.model_selection import train_test_split\n",
        "from sklearn.ensemble import StackingClassifier, RandomForestClassifier\n",
        "from sklearn.linear_model import LogisticRegression\n",
        "from sklearn.metrics import accuracy_score\n",
        "import warnings\n",
        "from sklearn.exceptions import ConvergenceWarning\n",
        "warnings.filterwarnings(\"ignore\", category=ConvergenceWarning)\n",
        "\n",
        "# Load dataset\n",
        "X, y = load_wine(return_X_y=True)\n",
        "X_train, X_test, y_train, y_test = train_test_split(X, y, test_size=0.25, random_state=42)\n",
        "\n",
        "# Individual base models\n",
        "rf = RandomForestClassifier(n_estimators=100, random_state=42)\n",
        "lr = LogisticRegression(max_iter=1000, random_state=42)\n",
        "\n",
        "# Fit and evaluate single classifiers\n",
        "rf.fit(X_train, y_train)\n",
        "acc_rf = accuracy_score(y_test, rf.predict(X_test))\n",
        "\n",
        "lr.fit(X_train, y_train)\n",
        "acc_lr = accuracy_score(y_test, lr.predict(X_test))\n",
        "\n",
        "# Stacking Classifier with RF and LR as base, LR as meta-classifier\n",
        "stack = StackingClassifier(\n",
        "    estimators=[\n",
        "        ('rf', RandomForestClassifier(n_estimators=100, random_state=42)),\n",
        "        ('lr', LogisticRegression(max_iter=1000, random_state=42))\n",
        "    ],\n",
        "    final_estimator=LogisticRegression(max_iter=1000, random_state=42),\n",
        "    passthrough=False  # Only use predictions, not original features\n",
        ")\n",
        "stack.fit(X_train, y_train)\n",
        "acc_stack = accuracy_score(y_test, stack.predict(X_test))\n",
        "\n",
        "print(f\"Random Forest accuracy:         {acc_rf:.3f}\")\n",
        "print(f\"Logistic Regression accuracy:   {acc_lr:.3f}\")\n",
        "print(f\"Stacking Classifier accuracy:   {acc_stack:.3f}\")\n"
      ],
      "metadata": {
        "colab": {
          "base_uri": "https://localhost:8080/"
        },
        "id": "sPdSId9nKQnn",
        "outputId": "385424ef-52f9-4f51-974c-e09f58f19180"
      },
      "execution_count": 26,
      "outputs": [
        {
          "output_type": "stream",
          "name": "stdout",
          "text": [
            "Random Forest accuracy:         1.000\n",
            "Logistic Regression accuracy:   1.000\n",
            "Stacking Classifier accuracy:   1.000\n"
          ]
        }
      ]
    },
    {
      "cell_type": "markdown",
      "source": [
        "**45. Train a Bagging Regressor with different levels of bootstrap samples and compare performance.**"
      ],
      "metadata": {
        "id": "fnCcWTC6KVJr"
      }
    },
    {
      "cell_type": "code",
      "source": [
        "from sklearn.datasets import fetch_california_housing\n",
        "from sklearn.model_selection import train_test_split\n",
        "from sklearn.ensemble import BaggingRegressor\n",
        "from sklearn.tree import DecisionTreeRegressor\n",
        "from sklearn.metrics import mean_squared_error\n",
        "\n",
        "# Load dataset\n",
        "X, y = fetch_california_housing(return_X_y=True)\n",
        "X_train, X_test, y_train, y_test = train_test_split(X, y, test_size=0.2, random_state=42)\n",
        "\n",
        "max_samples_options = [0.5, 0.7, 0.9, 1.0]  # Different bootstrap sample proportions\n",
        "mse_scores = []\n",
        "\n",
        "for max_samples in max_samples_options:\n",
        "    bagging = BaggingRegressor(\n",
        "        estimator=DecisionTreeRegressor(random_state=42),\n",
        "        n_estimators=50,\n",
        "        max_samples=max_samples,\n",
        "        bootstrap=True,\n",
        "        random_state=42\n",
        "    )\n",
        "    bagging.fit(X_train, y_train)\n",
        "    y_pred = bagging.predict(X_test)\n",
        "    mse = mean_squared_error(y_test, y_pred)\n",
        "    mse_scores.append(mse)\n",
        "    print(f\"max_samples={max_samples}: Mean Squared Error = {mse:.4f}\")\n",
        "\n",
        "# Results table:\n",
        "print(\"\\nComparison of Bagging Regressor Performance:\")\n",
        "print(\"| max_samples |    MSE   |\")\n",
        "for m, e in zip(max_samples_options, mse_scores):\n",
        "    print(f\"|    {m:.2f}      |  {e:.4f} |\")\n"
      ],
      "metadata": {
        "colab": {
          "base_uri": "https://localhost:8080/"
        },
        "id": "m7CMNSxJKp_i",
        "outputId": "fb668081-1780-4b0b-e4fb-b6b08f881150"
      },
      "execution_count": 27,
      "outputs": [
        {
          "output_type": "stream",
          "name": "stdout",
          "text": [
            "max_samples=0.5: Mean Squared Error = 0.2664\n",
            "max_samples=0.7: Mean Squared Error = 0.2638\n",
            "max_samples=0.9: Mean Squared Error = 0.2613\n",
            "max_samples=1.0: Mean Squared Error = 0.2573\n",
            "\n",
            "Comparison of Bagging Regressor Performance:\n",
            "| max_samples |    MSE   |\n",
            "|    0.50      |  0.2664 |\n",
            "|    0.70      |  0.2638 |\n",
            "|    0.90      |  0.2613 |\n",
            "|    1.00      |  0.2573 |\n"
          ]
        }
      ]
    }
  ]
}